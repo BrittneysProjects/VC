{
  "nbformat": 4,
  "nbformat_minor": 0,
  "metadata": {
    "colab": {
      "provenance": [],
      "mount_file_id": "14tUNRS4ukL5O4dL_3lPScGvnyNqlFQTD",
      "authorship_tag": "ABX9TyNf7b90r8+1CyzIcUiABh04",
      "include_colab_link": true
    },
    "kernelspec": {
      "name": "python3",
      "display_name": "Python 3"
    },
    "language_info": {
      "name": "python"
    }
  },
  "cells": [
    {
      "cell_type": "markdown",
      "metadata": {
        "id": "view-in-github",
        "colab_type": "text"
      },
      "source": [
        "<a href=\"https://colab.research.google.com/github/BrittneysProjects/VC/blob/main/deployment_report_pdf.ipynb\" target=\"_parent\"><img src=\"https://colab.research.google.com/assets/colab-badge.svg\" alt=\"Open In Colab\"/></a>"
      ]
    },
    {
      "cell_type": "markdown",
      "source": [
        "Name:Brittney Smith\n",
        "\n",
        "Batch: LISUM36\n",
        "\n",
        "Date: Aug 27, 2024\n",
        "\n",
        "\n",
        "\n"
      ],
      "metadata": {
        "id": "dAzlUi9EbGW0"
      }
    },
    {
      "cell_type": "code",
      "source": [
        "from flask import Flask, request, jsonify\n",
        "from joblib import load\n",
        "\n",
        "# Initialize the Flask app\n",
        "app = Flask(__name__)\n",
        "\n",
        "# Load your pre-trained model\n",
        "try:\n",
        "    model = load('model.joblib')\n",
        "    print(\"Model loaded successfully.\")\n",
        "except Exception as e:\n",
        "    print(f\"Error loading model: {e}\")\n",
        "\n",
        "# Define the prediction endpoint\n",
        "@app.route('/predict', methods=['POST'])\n",
        "def predict():\n",
        "    try:\n",
        "        data = request.json['data']\n",
        "        print(f\"Received data: {data}\")\n",
        "        prediction = model.predict([data])\n",
        "        return jsonify({'prediction': int(prediction[0])})\n",
        "    except Exception as e:\n",
        "        return jsonify({'error': str(e)})\n",
        "\n",
        "# Run the Flask app\n",
        "if __name__ == '__main__':\n",
        "    try:\n",
        "        app.run(port=5000)  # You can change the port if needed\n",
        "    except Exception as e:\n",
        "        print(f\"Error running the app: {e}\")\n"
      ],
      "metadata": {
        "colab": {
          "base_uri": "https://localhost:8080/"
        },
        "id": "ydoSfvDZTNW1",
        "outputId": "a4b7ff6c-5413-465e-c26e-cd7fcab71546"
      },
      "execution_count": 13,
      "outputs": [
        {
          "output_type": "stream",
          "name": "stdout",
          "text": [
            "Model loaded successfully.\n",
            " * Serving Flask app '__main__'\n",
            " * Debug mode: off\n"
          ]
        },
        {
          "output_type": "stream",
          "name": "stderr",
          "text": [
            "INFO:werkzeug:\u001b[31m\u001b[1mWARNING: This is a development server. Do not use it in a production deployment. Use a production WSGI server instead.\u001b[0m\n",
            " * Running on http://127.0.0.1:5000\n",
            "INFO:werkzeug:\u001b[33mPress CTRL+C to quit\u001b[0m\n"
          ]
        }
      ]
    },
    {
      "cell_type": "code",
      "execution_count": 14,
      "metadata": {
        "id": "1LPn7-hJLY9g"
      },
      "outputs": [],
      "source": [
        "from sklearn.datasets import load_iris\n",
        "data = load_iris()\n",
        "X, y = data.data, data.target\n"
      ]
    },
    {
      "cell_type": "code",
      "source": [
        "from sklearn.tree import DecisionTreeClassifier\n",
        "from joblib import dump\n",
        "\n",
        "model = DecisionTreeClassifier()\n",
        "model.fit(X, y)\n",
        "dump(model, 'model.joblib')\n"
      ],
      "metadata": {
        "colab": {
          "base_uri": "https://localhost:8080/"
        },
        "id": "cFevflV8LnZL",
        "outputId": "5e20d2bc-0331-406d-ac6b-62136e770d37"
      },
      "execution_count": 10,
      "outputs": [
        {
          "output_type": "execute_result",
          "data": {
            "text/plain": [
              "['model.joblib']"
            ]
          },
          "metadata": {},
          "execution_count": 10
        }
      ]
    },
    {
      "cell_type": "code",
      "source": [
        "!ngrok http 5000\n"
      ],
      "metadata": {
        "id": "6jOKHnsFTzio"
      },
      "execution_count": null,
      "outputs": []
    },
    {
      "cell_type": "code",
      "source": [
        "!pip install pyngrok\n"
      ],
      "metadata": {
        "id": "uIYR655mUAiB"
      },
      "execution_count": null,
      "outputs": []
    },
    {
      "cell_type": "code",
      "source": [
        "from pyngrok import ngrok\n",
        "\n",
        "ngrok.set_auth_token(\"2lGQJYa1uwm0ye7avhXDnQ1C5vC_6JJ1Nc4gDQ7Z2q2fUo2yH\")\n",
        "public_url = ngrok.connect(5000)\n",
        "print(f\"ngrok tunnel started: {public_url}\")\n"
      ],
      "metadata": {
        "id": "LZXLXMhBVoTg"
      },
      "execution_count": null,
      "outputs": []
    },
    {
      "cell_type": "code",
      "source": [
        "!pip install fpdf"
      ],
      "metadata": {
        "id": "UtAhQFRdX1f6"
      },
      "execution_count": null,
      "outputs": []
    },
    {
      "cell_type": "code",
      "source": [
        "from fpdf import FPDF\n",
        "\n",
        "# Create instance of FPDF class\n",
        "pdf = FPDF()\n",
        "\n",
        "# Add a page\n",
        "pdf.add_page()\n",
        "\n",
        "# Set font\n",
        "pdf.set_font(\"Arial\", size=12)\n",
        "\n",
        "# Add content\n",
        "pdf.cell(200, 10, txt=\"Deployment Report\", ln=True, align='C')\n",
        "pdf.cell(200, 10, txt=\"Name: Your Name\", ln=True)\n",
        "pdf.cell(200, 10, txt=\"Batch Code: Your Batch Code\", ln=True)\n",
        "pdf.cell(200, 10, txt=\"Submission Date: Date\", ln=True)\n",
        "pdf.cell(200, 10, txt=\"Submitted to: Instructor's Name\", ln=True)\n",
        "pdf.cell(200, 10, txt=\" \", ln=True)  # Add space\n",
        "pdf.multi_cell(0, 10, txt=\"Step 1: Selected the Iris dataset and trained a Decision Tree model.\")\n",
        "pdf.multi_cell(0, 10, txt=\"Step 2: Saved the trained model as 'model.joblib'.\")\n",
        "pdf.multi_cell(0, 10, txt=\"Step 3: Deployed the model using Flask and exposed it via ngrok.\")\n",
        "pdf.multi_cell(0, 10, txt=\"Step 4: Tested the '/predict' endpoint and received a successful response.\")\n",
        "\n",
        "# Save the PDF with name .pdf\n",
        "pdf.output(\"deployment_report.pdf\")\n"
      ],
      "metadata": {
        "id": "II0MrZZIX5NQ"
      },
      "execution_count": null,
      "outputs": []
    }
  ]
}